{
 "cells": [
  {
   "cell_type": "markdown",
   "metadata": {},
   "source": [
    "# 라이브러리"
   ]
  },
  {
   "cell_type": "code",
   "execution_count": 2,
   "metadata": {},
   "outputs": [],
   "source": [
    "from langchain_text_splitters import RecursiveCharacterTextSplitter\n",
    "from langchain_community.document_loaders import PyMuPDFLoader\n",
    "from langchain_community.vectorstores import FAISS\n",
    "from langchain_core.output_parsers import StrOutputParser\n",
    "from langchain_core.runnables import RunnablePassthrough\n",
    "from langchain_core.prompts import PromptTemplate\n",
    "from langchain_huggingface import HuggingFaceEmbeddings\n",
    "from langchain_community.vectorstores import Chroma\n",
    "import os"
   ]
  },
  {
   "cell_type": "markdown",
   "metadata": {},
   "source": [
    "# RAG 기본 파이프라인"
   ]
  },
  {
   "cell_type": "markdown",
   "metadata": {},
   "source": [
    "### 문서 로드"
   ]
  },
  {
   "cell_type": "code",
   "execution_count": 3,
   "metadata": {},
   "outputs": [
    {
     "name": "stdout",
     "output_type": "stream",
     "text": [
      "문서의 페이지수: 23\n"
     ]
    },
    {
     "data": {
      "text/plain": [
       "{'source': '/home/woongjae/rag-chatbot/data/SPRI_AI_Brief_2023년12월호_F.pdf',\n",
       " 'file_path': '/home/woongjae/rag-chatbot/data/SPRI_AI_Brief_2023년12월호_F.pdf',\n",
       " 'page': 1,\n",
       " 'total_pages': 23,\n",
       " 'format': 'PDF 1.4',\n",
       " 'title': '',\n",
       " 'author': 'dj',\n",
       " 'subject': '',\n",
       " 'keywords': '',\n",
       " 'creator': 'Hwp 2018 10.0.0.13462',\n",
       " 'producer': 'Hancom PDF 1.3.0.542',\n",
       " 'creationDate': \"D:20231208132838+09'00'\",\n",
       " 'modDate': \"D:20231208132838+09'00'\",\n",
       " 'trapped': ''}"
      ]
     },
     "execution_count": 3,
     "metadata": {},
     "output_type": "execute_result"
    }
   ],
   "source": [
    "loader = PyMuPDFLoader(\"/home/woongjae/rag-chatbot/data/SPRI_AI_Brief_2023년12월호_F.pdf\")\n",
    "docs = loader.load()\n",
    "print(f\"문서의 페이지수: {len(docs)}\")\n",
    "docs[1].metadata"
   ]
  },
  {
   "cell_type": "markdown",
   "metadata": {},
   "source": [
    "### 문서 분할"
   ]
  },
  {
   "cell_type": "code",
   "execution_count": 4,
   "metadata": {},
   "outputs": [
    {
     "name": "stdout",
     "output_type": "stream",
     "text": [
      "분할된 청크의수: 72\n"
     ]
    }
   ],
   "source": [
    "text_splitter = RecursiveCharacterTextSplitter(chunk_size=500, chunk_overlap=50)\n",
    "split_documents = text_splitter.split_documents(docs)\n",
    "print(f\"분할된 청크의수: {len(split_documents)}\")"
   ]
  },
  {
   "cell_type": "code",
   "execution_count": 7,
   "metadata": {},
   "outputs": [
    {
     "name": "stdout",
     "output_type": "stream",
     "text": [
      "2023년 12월호\n",
      "Ⅰ. 인공지능 산업 동향 브리프\n",
      " 1. 정책/법제 \n",
      "   ▹ 미국, 안전하고 신뢰할 수 있는 AI 개발과 사용에 관한 행정명령 발표  ························· 1\n",
      "   ▹ G7, 히로시마 AI 프로세스를 통해 AI 기업 대상 국제 행동강령에 합의··························· 2\n",
      "   ▹ 영국 AI 안전성 정상회의에 참가한 28개국, AI 위험에 공동 대응 선언··························· 3\n",
      "   ▹ 미국 법원, 예술가들이 생성 AI 기업에 제기한 저작권 소송 기각····································· 4\n",
      "   ▹ 미국 연방거래위원회, 저작권청에 소비자 보호와 경쟁 측면의 AI 의견서 제출················· 5\n",
      "   ▹ EU AI 법 3자 협상, 기반모델 규제 관련 견해차로 난항··················································· 6\n",
      " \n",
      " 2. 기업/산업 \n",
      "   ▹ 미국 프런티어 모델 포럼, 1,000만 달러 규모의 AI 안전 기금 조성································ 7\n",
      "   ▹ 코히어, 데이터 투명성 확보를 위한 데이터 출처 탐색기 공개  ······································· 8\n",
      "   ▹ 알리바바 클라우드, 최신 LLM ‘통이치엔원 2.0’ 공개 ······················································ 9\n",
      "   ▹ 삼성전자, 자체 개발 생성 AI ‘삼성 가우스’ 공개 ··························································· 10\n",
      "   ▹ 구글, 앤스로픽에 20억 달러 투자로 생성 AI 협력 강화 ················································ 11\n",
      "   ▹ IDC, 2027년 AI 소프트웨어 매출 2,500억 달러 돌파 전망··········································· 12\n",
      "   ▹ 빌 게이츠, AI 에이전트로 인한 컴퓨터 사용의 패러다임 변화 전망································ 13\n",
      "   ▹ 유튜브, 2024년부터 AI 생성 콘텐츠 표시 의무화···························································· 14\n",
      " 3. 기술/연구\n",
      "   ▹ 영국 과학혁신기술부, AI 안전 연구소 설립 발표······························································ 15\n",
      "   ▹ 구글 딥마인드, 범용 AI 모델의 기능과 동작에 대한 분류 체계 발표······························ 16\n",
      "   ▹ 갈릴레오의 LLM 환각 지수 평가에서 GPT-4가 가장 우수 ··········································· 17\n",
      "   \n",
      " 4. 인력/교육     \n",
      "   ▹ 영국 옥스퍼드 인터넷 연구소, AI 기술자의 임금이 평균 21% 높아······························· 18\n",
      "   \n",
      "   \n",
      " \n",
      "Ⅱ. 주요 행사\n",
      "   ▹CES 2024 ····························································································································· 19\n",
      "   ▹AIMLA 2024 ························································································································· 19\n",
      "   ▹AAAI Conference on Artificial Intelligence ·································································· 19\n",
      "\n"
     ]
    }
   ],
   "source": [
    "print(docs[1].page_content)"
   ]
  },
  {
   "cell_type": "code",
   "execution_count": 8,
   "metadata": {},
   "outputs": [
    {
     "name": "stdout",
     "output_type": "stream",
     "text": [
      "2023년 12월호\n",
      "Ⅰ. 인공지능 산업 동향 브리프\n",
      " 1. 정책/법제 \n",
      "   ▹ 미국, 안전하고 신뢰할 수 있는 AI 개발과 사용에 관한 행정명령 발표  ························· 1\n",
      "   ▹ G7, 히로시마 AI 프로세스를 통해 AI 기업 대상 국제 행동강령에 합의··························· 2\n",
      "   ▹ 영국 AI 안전성 정상회의에 참가한 28개국, AI 위험에 공동 대응 선언··························· 3\n",
      "   ▹ 미국 법원, 예술가들이 생성 AI 기업에 제기한 저작권 소송 기각····································· 4\n",
      "   ▹ 미국 연방거래위원회, 저작권청에 소비자 보호와 경쟁 측면의 AI 의견서 제출················· 5\n"
     ]
    }
   ],
   "source": [
    "print(split_documents[1].page_content)"
   ]
  },
  {
   "cell_type": "markdown",
   "metadata": {},
   "source": [
    "### 임베딩 생성"
   ]
  },
  {
   "cell_type": "code",
   "execution_count": 5,
   "metadata": {},
   "outputs": [
    {
     "name": "stderr",
     "output_type": "stream",
     "text": [
      "/home/woongjae/new_anaconda3/envs/rag-chatbot/lib/python3.9/site-packages/tqdm/auto.py:21: TqdmWarning: IProgress not found. Please update jupyter and ipywidgets. See https://ipywidgets.readthedocs.io/en/stable/user_install.html\n",
      "  from .autonotebook import tqdm as notebook_tqdm\n"
     ]
    }
   ],
   "source": [
    "embeddings = HuggingFaceEmbeddings(\n",
    "    model_name=\"sentence-transformers/all-MiniLM-L6-v2\",\n",
    "    model_kwargs={'device': 'cuda:1'}  # CPU에서 실행\n",
    ")"
   ]
  },
  {
   "cell_type": "markdown",
   "metadata": {},
   "source": [
    "### DB 생성 및 저장"
   ]
  },
  {
   "cell_type": "code",
   "execution_count": 6,
   "metadata": {},
   "outputs": [
    {
     "name": "stderr",
     "output_type": "stream",
     "text": [
      "/tmp/ipykernel_4158853/3840083469.py:5: LangChainDeprecationWarning: The class `Chroma` was deprecated in LangChain 0.2.9 and will be removed in 1.0. An updated version of the class exists in the :class:`~langchain-chroma package and should be used instead. To use it run `pip install -U :class:`~langchain-chroma` and import as `from :class:`~langchain_chroma import Chroma``.\n",
      "  vectorstore = Chroma(embedding_function=embeddings, persist_directory=\"./chroma_db_test\")\n"
     ]
    },
    {
     "data": {
      "text/plain": [
       "['be75e58d-8f8f-4621-9d47-f1cefe746a4d',\n",
       " 'd98f880b-1896-4560-a85c-95932580ab5e',\n",
       " '0714a2ca-8fd7-4651-b326-10916d5b3520',\n",
       " 'e1fc5dba-3c81-4351-8173-cfdde3c6a890',\n",
       " 'd5f3f5ef-ee1d-4014-b900-79dbf2c66c52',\n",
       " 'ef160c36-18f5-45ce-8b83-b0ff63c8353d',\n",
       " 'eaddf79a-5f7a-4eef-92d8-3a37cf78e720',\n",
       " 'ef88dc22-767e-4379-bc15-baee40f12309',\n",
       " '86679c92-e448-4940-a8f5-c5c31b0568c2',\n",
       " '4b41e192-8d3e-4022-b541-56f42dc34a3e',\n",
       " '02ff05cc-5cb7-4597-90bd-91734a2e1485',\n",
       " '58435be7-b5f0-410f-9371-7bec49a6a9fb',\n",
       " 'a25a55bb-a351-42dd-858d-86bea41f7641',\n",
       " 'c9b680fa-a344-4de9-9260-1c708096bb3d',\n",
       " '07385a29-3c54-4e34-b099-7d4729f14e9c',\n",
       " '2ddb17d5-1277-43a2-b6eb-e48e50ec4dea',\n",
       " 'c89e0fd1-fc97-4f9b-876f-560289fdedb0',\n",
       " 'b4af76fb-8656-4868-b402-e98a306bf7f3',\n",
       " '73ec8ca5-195b-4bb1-acd1-0efed062aeea',\n",
       " 'ca092b34-a090-4d18-b793-a00003b836c9',\n",
       " 'f7d86ae6-696a-4403-b0e3-1733977201c5',\n",
       " '0c238e7c-93ba-4b30-a8ca-542a84710fd0',\n",
       " 'a98b84ea-eb58-4366-810f-a55835e6a298',\n",
       " 'ae495e36-4149-4043-a17c-b4ba71843e8b',\n",
       " '92deb21a-13b8-4f6f-bc17-e05752dc4dea',\n",
       " '3d24826e-6271-43af-9606-e4214b888e68',\n",
       " 'b322845b-022a-4ff7-a5f3-dcd4302eb6f2',\n",
       " '21bdaa83-ab8f-45a3-b898-9f4821f0782b',\n",
       " 'a7b3be46-9ebc-4a42-a2eb-f864191fc2a2',\n",
       " 'c9198899-cdd8-4178-854b-64c99e7aaa91',\n",
       " '92ebc2fa-7ca9-4822-9005-329e968e33eb',\n",
       " '9c61369e-b2b7-468d-9b59-6583271c9a81',\n",
       " 'd67ef532-0673-4d44-8209-384ebc8b9fc6',\n",
       " 'e4389bf0-e5ed-4a46-9418-cc15c55d6b66',\n",
       " 'cec6406c-44dd-4a69-b116-b96ff63dcd00',\n",
       " '849018d9-86f9-4cab-b048-7e256e1f3ba8',\n",
       " '02ee364e-b62d-4212-9032-f075531ca7c3',\n",
       " 'd521d4fd-8a60-4c86-acc1-d5b3b22a2310',\n",
       " 'dfe9d636-50fa-4a35-b05e-bdf6d99c8043',\n",
       " 'eee7d958-9e72-4f04-8126-98001249e77e',\n",
       " 'e463c69a-64a7-4775-8e02-5a8b29315133',\n",
       " '10ad7965-9c31-45b7-b1b5-67e4718732d9',\n",
       " '04534dab-f59e-4fc5-8475-17d0609e2e11',\n",
       " '570e8e5d-29dd-4bff-8a2c-7a856ec55e73',\n",
       " 'b3501576-97be-4d40-af43-79ac6fca556d',\n",
       " 'a88f9e2e-a158-46e4-8547-bc8d7014449a',\n",
       " '6a8b0493-1c6a-4850-b3e7-faa970c7c938',\n",
       " 'a028fb65-d964-4cfc-83b6-09cb7527506b',\n",
       " '10ee5ed6-7165-4f0b-99fb-dd441ccbfee2',\n",
       " 'c090c003-2a06-4336-8ae4-eaa458b10e40',\n",
       " '0c51b6d8-a218-4abd-acbc-04aab2948ae4',\n",
       " 'dc8d8012-c378-471a-84be-22fee70dfaa6',\n",
       " '3942f47e-4f93-4d53-97a3-d20ef9e26894',\n",
       " 'c9b49791-e74a-43b5-940c-6747f0036933',\n",
       " '222608f2-2c33-4d31-8398-52ab83e87d94',\n",
       " 'c567ccac-fc94-43e0-adf7-709fa4a3390f',\n",
       " '1d45ae9e-3ad0-4752-b83a-328130c444d8',\n",
       " '5015eb2c-340f-4d74-8615-f5c106f8adef',\n",
       " '3d2d4a98-ee36-4d46-b005-4280d0f7983a',\n",
       " 'f72c1d54-d18f-4825-bf90-08b245c5e0d9',\n",
       " '049a582e-f5bc-48ee-9075-a1cf4e7f4416',\n",
       " 'f1d4ba5e-ee4d-4903-864f-2ceb447fde72',\n",
       " 'f11c9ecf-552a-4d98-bbc7-680d9b517dbe',\n",
       " '15928355-731b-450e-90fa-64b1adce785a',\n",
       " 'ae7e886f-c23e-4dd3-bd6e-f66fa09d0b9e',\n",
       " 'e14c7e0b-f490-4729-8c0f-e2a57c7a232c',\n",
       " 'fb053787-0bde-48ff-a9b9-7d5d1f870fb9',\n",
       " '73b9d674-9817-4eb4-9dab-0adeead4c866',\n",
       " 'f80c8a46-11c1-464e-8e7e-a4b8abaf969f',\n",
       " '7876fd73-1547-4dab-a18b-ba5d2a76b0a3',\n",
       " 'd73ba46c-b67b-4b52-851d-cd89ae1f2968',\n",
       " '7e7573cc-67ed-475f-9cae-d0d89337cb16']"
      ]
     },
     "execution_count": 6,
     "metadata": {},
     "output_type": "execute_result"
    }
   ],
   "source": [
    "# 벡터 스토어가 이미 있으면 로드, 없으면 새로 생성\n",
    "if os.path.exists(\"./chroma_db_test\"):\n",
    "    vectorstore = Chroma(persist_directory=\"./chroma_db_test\", embedding_function=embeddings)\n",
    "else:\n",
    "    vectorstore = Chroma(embedding_function=embeddings, persist_directory=\"./chroma_db_test\")\n",
    "\n",
    "retriever = vectorstore.as_retriever(search_type=\"similarity\", search_kwargs={\"k\":3})\n",
    "vectorstore.add_documents(split_documents)"
   ]
  },
  {
   "cell_type": "markdown",
   "metadata": {},
   "source": [
    "### 검색기(Retriever) 생성"
   ]
  },
  {
   "cell_type": "code",
   "execution_count": 7,
   "metadata": {},
   "outputs": [
    {
     "data": {
      "text/plain": [
       "VectorStoreRetriever(tags=['Chroma', 'HuggingFaceEmbeddings'], vectorstore=<langchain_community.vectorstores.chroma.Chroma object at 0x72fc60231d90>, search_kwargs={})"
      ]
     },
     "execution_count": 7,
     "metadata": {},
     "output_type": "execute_result"
    }
   ],
   "source": [
    "retriever = vectorstore.as_retriever()\n",
    "retriever"
   ]
  },
  {
   "cell_type": "code",
   "execution_count": 8,
   "metadata": {},
   "outputs": [
    {
     "data": {
      "text/plain": [
       "[Document(metadata={'author': 'dj', 'creationDate': \"D:20231208132838+09'00'\", 'creator': 'Hwp 2018 10.0.0.13462', 'file_path': '/home/woongjae/rag-chatbot/data/SPRI_AI_Brief_2023년12월호_F.pdf', 'format': 'PDF 1.4', 'keywords': '', 'modDate': \"D:20231208132838+09'00'\", 'page': 22, 'producer': 'Hancom PDF 1.3.0.542', 'source': '/home/woongjae/rag-chatbot/data/SPRI_AI_Brief_2023년12월호_F.pdf', 'subject': '', 'title': '', 'total_pages': 23, 'trapped': ''}, page_content='홈페이지 : https://spri.kr/\\n보고서와 관련된 문의는 AI정책연구실(jayoo@spri.kr, 031-739-7352)으로 연락주시기 바랍니다.'),\n",
       " Document(metadata={'author': 'dj', 'creationDate': \"D:20231208132838+09'00'\", 'creator': 'Hwp 2018 10.0.0.13462', 'file_path': '/home/woongjae/rag-chatbot/data/SPRI_AI_Brief_2023년12월호_F.pdf', 'format': 'PDF 1.4', 'keywords': '', 'modDate': \"D:20231208132838+09'00'\", 'page': 2, 'producer': 'Hancom PDF 1.3.0.542', 'source': '/home/woongjae/rag-chatbot/data/SPRI_AI_Brief_2023년12월호_F.pdf', 'subject': '', 'title': '', 'total_pages': 23, 'trapped': ''}, page_content='Ⅰ. 인공지능 산업 동향 브리프'),\n",
       " Document(metadata={'author': 'dj', 'creationDate': \"D:20231208132838+09'00'\", 'creator': 'Hwp 2018 10.0.0.13462', 'file_path': '/home/woongjae/rag-chatbot/data/SPRI_AI_Brief_2023년12월호_F.pdf', 'format': 'PDF 1.4', 'keywords': '', 'modDate': \"D:20231208132838+09'00'\", 'page': 0, 'producer': 'Hancom PDF 1.3.0.542', 'source': '/home/woongjae/rag-chatbot/data/SPRI_AI_Brief_2023년12월호_F.pdf', 'subject': '', 'title': '', 'total_pages': 23, 'trapped': ''}, page_content='2023년 12월호'),\n",
       " Document(metadata={'author': 'dj', 'creationDate': \"D:20231208132838+09'00'\", 'creator': 'Hwp 2018 10.0.0.13462', 'file_path': '/home/woongjae/rag-chatbot/data/SPRI_AI_Brief_2023년12월호_F.pdf', 'format': 'PDF 1.4', 'keywords': '', 'modDate': \"D:20231208132838+09'00'\", 'page': 12, 'producer': 'Hancom PDF 1.3.0.542', 'source': '/home/woongjae/rag-chatbot/data/SPRI_AI_Brief_2023년12월호_F.pdf', 'subject': '', 'title': '', 'total_pages': 23, 'trapped': ''}, page_content='∙삼성 가우스는 라이선스나 개인정보를 침해하지 않는 안전한 데이터를 통해 학습되었으며, \\n온디바이스에서 작동하도록 설계되어 외부로 사용자의 정보가 유출되지 않는 장점을 보유\\n∙삼성전자는 삼성 가우스를 활용한 온디바이스 AI 기술도 소개했으며, 생성 AI 모델을 다양한 제품에 \\n단계적으로 탑재할 계획\\nn 삼성 가우스는 △텍스트를 생성하는 언어모델 △코드를 생성하는 코드 모델 △이미지를 생성하는 \\n이미지 모델의 3개 모델로 구성\\n∙언어 모델은 클라우드와 온디바이스 대상 다양한 모델로 구성되며, 메일 작성, 문서 요약, 번역 업무의 \\n처리를 지원\\n∙코드 모델 기반의 AI 코딩 어시스턴트 ‘코드아이(code.i)’는 대화형 인터페이스로 서비스를 제공하며 \\n사내 소프트웨어 개발에 최적화\\n∙이미지 모델은 창의적인 이미지를 생성하고 기존 이미지를 원하는 대로 바꿀 수 있도록 지원하며 \\n저해상도 이미지의 고해상도 전환도 지원')]"
      ]
     },
     "execution_count": 8,
     "metadata": {},
     "output_type": "execute_result"
    }
   ],
   "source": [
    "retriever.invoke(\"AI소프트웨어 시장이 2027년에 달성할것 같은 매출액이 얼마일 것 같아?\")"
   ]
  },
  {
   "cell_type": "markdown",
   "metadata": {},
   "source": [
    "### 프롬프트 생성"
   ]
  },
  {
   "cell_type": "code",
   "execution_count": 27,
   "metadata": {},
   "outputs": [],
   "source": [
    "prompt = PromptTemplate.from_template(\n",
    "    \"\"\"You are an assistant for question-answering tasks. \n",
    "Use the following pieces of retrieved context to answer the question. \n",
    "If you don't know the answer, just say that you don't know. \n",
    "Answer in Korean.\n",
    "\n",
    "#Context: \n",
    "{context}\n",
    "\n",
    "#Question:\n",
    "{question}\n",
    "\n",
    "#Answer:\"\"\"\n",
    ")"
   ]
  },
  {
   "cell_type": "code",
   "execution_count": null,
   "metadata": {},
   "outputs": [],
   "source": []
  }
 ],
 "metadata": {
  "kernelspec": {
   "display_name": "rag-chatbot",
   "language": "python",
   "name": "python3"
  },
  "language_info": {
   "codemirror_mode": {
    "name": "ipython",
    "version": 3
   },
   "file_extension": ".py",
   "mimetype": "text/x-python",
   "name": "python",
   "nbconvert_exporter": "python",
   "pygments_lexer": "ipython3",
   "version": "3.9.20"
  }
 },
 "nbformat": 4,
 "nbformat_minor": 2
}
